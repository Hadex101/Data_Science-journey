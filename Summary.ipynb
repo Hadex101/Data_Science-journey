{
 "cells": [
  {
   "cell_type": "markdown",
   "id": "428b5133",
   "metadata": {},
   "source": [
    "# Capstone Project Summary Report: Predicting House Prices"
   ]
  },
  {
   "cell_type": "markdown",
   "id": "1c5d0c36",
   "metadata": {},
   "source": [
    "Objective\n",
    "\n",
    "We aimed to build a machine learning model to predict house prices using features from the Boston Housing dataset. The goal was to understand how various factors relate to house prices and to create an accurate prediction tool.\n",
    "\n",
    "Data Overview\n",
    "\n",
    "Dataset: Boston Housing\n",
    "Observations: 506\n",
    "Features: 13 after preprocessing\n",
    "Target: MEDV (Median home value in $1000s)\n",
    "Key Findings from EDA\n",
    "Target Distribution: MEDV is roughly normally distributed but with some skewness.\n",
    "Strong Predictors: Features like the number of rooms (RM), the percentage of lower status population (LSTAT), and the pupil-teacher ratio (PTRATIO) strongly influence house prices.\n",
    "Outliers: Outliers were present in several features, which were addressed during data preparation.\n",
    "Feature Engineering\n",
    "New Features: Created RM*LSTAT to capture the interaction between the number of rooms and socioeconomic status.\n",
    "Encoding: Categorical variables like CHAS were one-hot encoded.\n",
    "Scaling: Numerical features were standardized for consistency.\n",
    "Model Training and Evaluation\n",
    "We trained two models:\n",
    "\n",
    "Linear Regression\n",
    "Random Forest Regressor\n",
    "The Random Forest model performed better:\n",
    "\n",
    "RMSE: 2.79\n",
    "\n",
    "MAE: 2.09\n",
    "\n",
    "R² Score: 0.85\n",
    "\n",
    "Hyperparameter Tuning\n",
    "Optimized the Random Forest model, which improved its performance. Best parameters included n_estimators=200 and max_depth=20.\n",
    "\n",
    "Conclusion\n",
    "Our Random Forest model effectively predicts house prices with high accuracy. The model highlights key factors like the number of rooms and socioeconomic status, offering valuable insights and a strong tool for real estate pricing.\n",
    "\n",
    "\n",
    "\n",
    "\n",
    "\n",
    "\n"
   ]
  },
  {
   "cell_type": "code",
   "execution_count": null,
   "id": "cc671659",
   "metadata": {},
   "outputs": [],
   "source": []
  }
 ],
 "metadata": {
  "kernelspec": {
   "display_name": "Python 3 (ipykernel)",
   "language": "python",
   "name": "python3"
  },
  "language_info": {
   "codemirror_mode": {
    "name": "ipython",
    "version": 3
   },
   "file_extension": ".py",
   "mimetype": "text/x-python",
   "name": "python",
   "nbconvert_exporter": "python",
   "pygments_lexer": "ipython3",
   "version": "3.10.9"
  }
 },
 "nbformat": 4,
 "nbformat_minor": 5
}
